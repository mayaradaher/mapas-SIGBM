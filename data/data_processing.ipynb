{
 "cells": [
  {
   "cell_type": "code",
   "execution_count": 1,
   "metadata": {},
   "outputs": [],
   "source": [
    "import pandas as pd"
   ]
  },
  {
   "cell_type": "code",
   "execution_count": 34,
   "metadata": {},
   "outputs": [],
   "source": [
    "df_purchases = pd.read_csv(\"amazon-purchases.csv\")\n",
    "df_survey = pd.read_csv(\"survey.csv\")"
   ]
  },
  {
   "cell_type": "code",
   "execution_count": 43,
   "metadata": {},
   "outputs": [],
   "source": [
    "df = pd.merge(df_purchases, df_survey, on=\"Survey ResponseID\", how=\"inner\")"
   ]
  },
  {
   "cell_type": "code",
   "execution_count": 44,
   "metadata": {},
   "outputs": [],
   "source": [
    "# Converter colunas de float64 para int64, e 'Order Date' para datetime\n",
    "# df = df.astype({col: 'string' for col in df.select_dtypes(include=['object']).columns})\n",
    "df[\"Order Date\"] = pd.to_datetime(df[\"Order Date\"])\n",
    "df = df.astype({col: \"int64\" for col in df.select_dtypes(include=[\"float64\"]).columns})"
   ]
  },
  {
   "cell_type": "code",
   "execution_count": 5,
   "metadata": {},
   "outputs": [],
   "source": [
    "# Clean \"Category\" column\n",
    "def clean_category(s):\n",
    "    if pd.isna(s):  # Verifica se o valor é NA\n",
    "        return s\n",
    "    return \" \".join(word.capitalize() for word in s.split(\"_\"))\n",
    "\n",
    "\n",
    "df[\"Category\"] = df[\"Category\"].apply(clean_category)"
   ]
  },
  {
   "cell_type": "code",
   "execution_count": 7,
   "metadata": {},
   "outputs": [],
   "source": [
    "# Extract the year from \"Order Date\"\n",
    "df[\"Order Date Year\"] = df[\"Order Date\"].dt.year\n",
    "\n",
    "# Extract the month from \"Order Date\"\n",
    "df[\"Order Date Month\"] = df[\"Order Date\"].dt.month"
   ]
  },
  {
   "cell_type": "code",
   "execution_count": null,
   "metadata": {},
   "outputs": [],
   "source": [
    "df.head(2)"
   ]
  },
  {
   "cell_type": "code",
   "execution_count": 10,
   "metadata": {},
   "outputs": [],
   "source": [
    "# Create \"Purchase Total\" column\n",
    "df[\"Purchase Total\"] = df[\"Purchase Price Per Unit\"] * df[\"Quantity\"]"
   ]
  },
  {
   "cell_type": "markdown",
   "metadata": {},
   "source": [
    "## Para fazer\n"
   ]
  },
  {
   "cell_type": "code",
   "execution_count": null,
   "metadata": {},
   "outputs": [],
   "source": [
    "# Fazer o csv para a página 1\n",
    "\n",
    "\n",
    "\n",
    "selected_columns = [\n",
    "    \"Survey ResponseID\",\n",
    "    \"Purchase Total\",\n",
    "    \"Quantity\",\n",
    "    \"Order Date Year\",\n",
    "    \"Order Date Month\",\n",
    "    \"Category\",\n",
    "]\n",
    "df_page1 = df[selected_columns]\n",
    "df_page1"
   ]
  },
  {
   "cell_type": "code",
   "execution_count": 20,
   "metadata": {},
   "outputs": [
    {
     "name": "stdout",
     "output_type": "stream",
     "text": [
      "Shipping Address State['', 'AK', 'AL', 'AR', 'AZ', 'CA', 'CO', 'CT', 'DC', 'DE', 'FL', 'GA', 'HI', 'IA', 'ID', 'IL', 'IN', 'KS', 'KY', 'LA', 'MA', 'MD', 'ME', 'MI', 'MN', 'MO', 'MS', 'MT', 'NC', 'ND', 'NE', 'NH', 'NJ', 'NM', 'NV', 'NY', 'OH', 'OK', 'OR', 'PA', 'PR', 'RI', 'SC', 'SD', 'TN', 'TX', 'UT', 'VA', 'VT', 'WA', 'WI', 'WV', 'WY']\n"
     ]
    }
   ],
   "source": [
    "# juntar com a tabela us_state.csv\n",
    "df[\"Shipping Address State\"] = df[\"Shipping Address State\"].fillna(\"\")\n",
    "print(\"Shipping Address State\" + str(sorted(df[\"Shipping Address State\"].unique())))"
   ]
  },
  {
   "cell_type": "markdown",
   "metadata": {},
   "source": [
    "## Page 2\n"
   ]
  },
  {
   "cell_type": "code",
   "execution_count": 22,
   "metadata": {},
   "outputs": [],
   "source": [
    "# Clean \"Q-demos-age\" column\n",
    "def clean_demos_age(demos_age):\n",
    "    return demos_age.replace(\"and older\", \"+\").replace(\"years\", \"\").replace(\" \", \"\").strip()\n",
    "\n",
    "\n",
    "df[\"Q-demos-age\"] = df[\"Q-demos-age\"].apply(clean_demos_age)"
   ]
  },
  {
   "cell_type": "code",
   "execution_count": null,
   "metadata": {},
   "outputs": [],
   "source": [
    "# fazer o csv para a página 2"
   ]
  },
  {
   "cell_type": "code",
   "execution_count": null,
   "metadata": {},
   "outputs": [],
   "source": [
    "df.head(1)"
   ]
  },
  {
   "cell_type": "code",
   "execution_count": null,
   "metadata": {},
   "outputs": [],
   "source": [
    "df[\"Q-demos-hispanic\"] = df[\"Q-demos-hispanic\"].fillna(\"\")\n",
    "print(\"Q-demos-hispanic\" + str(sorted(df[\"Q-demos-hispanic\"].unique())))"
   ]
  },
  {
   "cell_type": "code",
   "execution_count": null,
   "metadata": {},
   "outputs": [],
   "source": [
    "# Filtragem para o valor 'Puerto Rico' e contagem\n",
    "# puerto_rico_count = df[df[\"Shipping Address State Region\"] == \"Puerto Rico\"].shape[0]\n",
    "# print(\"Count of 'Puerto Rico':\", puerto_rico_count)\n",
    "\n",
    "\n",
    "# filtrar linhas com determinado valor\n",
    "# filtered_df = df[df['Quantity'] == 50]\n",
    "# filtered_df.head(10)"
   ]
  }
 ],
 "metadata": {
  "kernelspec": {
   "display_name": "base",
   "language": "python",
   "name": "python3"
  },
  "language_info": {
   "codemirror_mode": {
    "name": "ipython",
    "version": 3
   },
   "file_extension": ".py",
   "mimetype": "text/x-python",
   "name": "python",
   "nbconvert_exporter": "python",
   "pygments_lexer": "ipython3",
   "version": "3.11.9"
  }
 },
 "nbformat": 4,
 "nbformat_minor": 2
}
